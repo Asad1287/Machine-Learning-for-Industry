{
  "nbformat": 4,
  "nbformat_minor": 0,
  "metadata": {
    "colab": {
      "provenance": [],
      "machine_shape": "hm",
      "authorship_tag": "ABX9TyNJrBY52qGK2vbmF4yWmqR3",
      "include_colab_link": true
    },
    "kernelspec": {
      "name": "python3",
      "display_name": "Python 3"
    },
    "language_info": {
      "name": "python"
    }
  },
  "cells": [
    {
      "cell_type": "markdown",
      "metadata": {
        "id": "view-in-github",
        "colab_type": "text"
      },
      "source": [
        "<a href=\"https://colab.research.google.com/github/Asad1287/Machine-Learning-for-Industry/blob/main/Genetic_Algorithm_Optimal_Setpoint_Based_Control_Strategy_of_a_Wastewater_Treatment_Process.ipynb\" target=\"_parent\"><img src=\"https://colab.research.google.com/assets/colab-badge.svg\" alt=\"Open In Colab\"/></a>"
      ]
    },
    {
      "cell_type": "code",
      "source": [
        "import numpy as np\n",
        "import pandas as pd\n",
        "import matplotlib.pyplot as plt\n",
        "\n",
        "# Setting the simulation parameters\n",
        "np.random.seed(42)\n",
        "days = 112\n",
        "time_steps_per_day = 4  # Simulating four time points per day\n",
        "total_steps = days * time_steps_per_day\n",
        "\n",
        "# Parameters to simulate: COD, BOD5, TSS, SNH4-N, SNO-N, and Ntot\n",
        "# Initialize time series for each parameter with base values and add random fluctuations\n",
        "base_values = {\n",
        "    \"COD\": 100,    # Base chemical oxygen demand in mg/L\n",
        "    \"BOD5\": 20,    # Base biological oxygen demand in mg/L\n",
        "    \"TSS\": 30,     # Total suspended solids in mg/L\n",
        "    \"SNH4-N\": 1.5, # Ammonium concentration in mg/L\n",
        "    \"SNO-N\": 4,    # Nitrate concentration in mg/L\n",
        "    \"Ntot\": 8      # Total nitrogen in mg/L\n",
        "}\n",
        "\n",
        "# Set up fluctuations to simulate DRY, RAIN, and STORM conditions\n",
        "fluctuations = {\n",
        "    \"DRY\": (0.9, 1.1),\n",
        "    \"RAIN\": (1.1, 1.3),\n",
        "    \"STORM\": (1.3, 1.6)\n",
        "}\n",
        "\n",
        "# Define operating regime over time (e.g., DRY for the first 84 days, RAIN and STORM for the last 28 days)\n",
        "operating_regime = [\"DRY\"] * (84 * time_steps_per_day) + \\\n",
        "                   [\"RAIN\"] * (14 * time_steps_per_day) + \\\n",
        "                   [\"STORM\"] * (14 * time_steps_per_day)\n",
        "\n",
        "# Create a DataFrame to hold simulated data\n",
        "time_series = pd.date_range(start=\"2023-01-01\", periods=total_steps, freq=\"6H\")\n",
        "data = pd.DataFrame(index=time_series)\n",
        "\n",
        "# Simulate data for each parameter\n",
        "for param, base in base_values.items():\n",
        "    simulated_values = []\n",
        "    for i in range(total_steps):\n",
        "        regime = operating_regime[i]\n",
        "        fluctuation = np.random.uniform(*fluctuations[regime])\n",
        "        simulated_value = base * fluctuation\n",
        "        simulated_values.append(simulated_value)\n",
        "    data[param] = simulated_values\n",
        "\n",
        "\n"
      ],
      "metadata": {
        "colab": {
          "base_uri": "https://localhost:8080/"
        },
        "id": "HWfUmNUW9IqR",
        "outputId": "f3f59b50-c8e2-4a2c-89ed-a6374dfda892"
      },
      "execution_count": 9,
      "outputs": [
        {
          "output_type": "stream",
          "name": "stderr",
          "text": [
            "<ipython-input-9-022cc10dd5e7>:35: FutureWarning: 'H' is deprecated and will be removed in a future version, please use 'h' instead.\n",
            "  time_series = pd.date_range(start=\"2023-01-01\", periods=total_steps, freq=\"6H\")\n"
          ]
        }
      ]
    },
    {
      "cell_type": "code",
      "source": [],
      "metadata": {
        "id": "OUa7qRXSBRr0"
      },
      "execution_count": null,
      "outputs": []
    }
  ]
}